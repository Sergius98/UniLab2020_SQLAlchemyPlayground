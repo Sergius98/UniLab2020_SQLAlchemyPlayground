{
  "nbformat": 4,
  "nbformat_minor": 0,
  "metadata": {
    "colab": {
      "name": "lab4.ipynb",
      "provenance": [],
      "collapsed_sections": [],
      "authorship_tag": "ABX9TyP0MAjGEvqgchxe/deieXt5"
    },
    "kernelspec": {
      "name": "python3",
      "display_name": "Python 3"
    }
  },
  "cells": [
    {
      "cell_type": "markdown",
      "metadata": {
        "id": "NDBp7OgidGAY"
      },
      "source": [
        "# 1. Створення бази даних і таблиці за допомогою sqlalchemy\n",
        "\n",
        "*   **Client** *clients* (id, name, phone)\n",
        "*   **Order** *orders* (id, client_id, book_id, ordered_date, total, completion_date)\n",
        "*   **License** *licenses* (id, book_id, expiration_date, title)\n",
        "*   **Book** *books* (id, translated, printed, isbn)\n",
        "*   **Worker** *workers* (id, position, name)\n",
        "*   **Group** *groups* (id, worker_id, book_id)"
      ]
    },
    {
      "cell_type": "markdown",
      "metadata": {
        "id": "yeS3-N_Zj0_m"
      },
      "source": [
        "## init"
      ]
    },
    {
      "cell_type": "code",
      "metadata": {
        "id": "3G0W0awsTaCf"
      },
      "source": [
        "# Create database in alchemy\n",
        "\n",
        "#imported sqllite and sqlalchemy\n",
        "import sqlalchemy\n",
        "import sqlite3\n",
        "\n",
        "# selected path to the database \n",
        "from sqlalchemy import create_engine\n",
        "#engine = create_engine('sqlite:////content/book_store.db', echo=True)\n",
        "engine = create_engine('sqlite:///:memory:', echo=True)\n",
        "\n",
        "# created Session\n",
        "import datetime\n",
        "from sqlalchemy.orm import sessionmaker\n",
        "Session = sessionmaker(bind=engine)\n",
        "\n",
        "# created tables in the database\n",
        "from sqlalchemy.ext.declarative import declarative_base\n",
        "from sqlalchemy import Column, Integer, String, DateTime, Boolean, Table\n",
        "from sqlalchemy import ForeignKey\n",
        "from sqlalchemy.orm import relationship\n",
        "\n",
        "\n",
        "Base = declarative_base()\n",
        "#session = Session()"
      ],
      "execution_count": null,
      "outputs": []
    },
    {
      "cell_type": "markdown",
      "metadata": {
        "id": "d3ZR1C3tjW0g"
      },
      "source": [
        "## Client"
      ]
    },
    {
      "cell_type": "code",
      "metadata": {
        "id": "5to3Gmy_TmRx"
      },
      "source": [
        "class Client(Base):\n",
        "  __tablename__ = 'clients'\n",
        "\n",
        "  id = Column(Integer, primary_key=True, autoincrement=True, unique=True, \n",
        "              nullable=False)\n",
        "  name = Column(String, nullable=False)\n",
        "  phone = Column(String, nullable=False)\n",
        "\n",
        "  orders = relationship(\n",
        "      \"Order\", \n",
        "      backref=\"client\",\n",
        "      cascade=\"all, delete\")\n",
        "\n",
        "  def __repr__(self):\n",
        "    return \"<Client(id='%s', name='%s', phone='%s')>\"%(self.id, self.name, \n",
        "                                                             self.phone)"
      ],
      "execution_count": null,
      "outputs": []
    },
    {
      "cell_type": "markdown",
      "metadata": {
        "id": "Ft5OP8J7jbFf"
      },
      "source": [
        "## Order"
      ]
    },
    {
      "cell_type": "code",
      "metadata": {
        "id": "2zN1x0dcTpDC"
      },
      "source": [
        "class Order(Base):\n",
        "  __tablename__ = 'orders'\n",
        "\n",
        "  id = Column(Integer, primary_key=True, autoincrement=True, unique=True, \n",
        "              nullable=False)\n",
        "  client_id = Column(Integer, ForeignKey('clients.id'), nullable=False)\n",
        "  book_id = Column(Integer, ForeignKey('books.id'), nullable=False)\n",
        "  ordered_date = Column(DateTime, nullable=False)\n",
        "  total = Column(Integer, nullable=False)\n",
        "  completion_date = Column(DateTime, nullable=True)\n",
        "\n",
        "  #client = relationship(\"Client\", back_populates=\"orders\")\n",
        "  #book = relationship(\"Book\", back_populates=\"orders\")\n",
        "\n",
        "  def __repr__(self):\n",
        "    ordered_date = self.ordered_date\n",
        "    completion_date = self.completion_date\n",
        "    if ordered_date is not None:\n",
        "      ordered_date = ordered_date.strftime(\"%d-%b-%Y_%H:%M\")\n",
        "    if completion_date is not None:\n",
        "      completion_date = completion_date.strftime(\"%d-%b-%Y_%H:%M\")\n",
        "    return (\"<Order(id='{}', client_id='{}', book_id='{}', ordered_date='{}',\" +\n",
        "            \"total='{}',completion_date='{}')>\").format(\n",
        "                self.id, self.client_id, self.book_id, \n",
        "                ordered_date,\n",
        "                self.total, completion_date)\n",
        "    \n",
        "    # strftime(\"%d-%b-%Y (%H:%M:%S.%f)\")"
      ],
      "execution_count": null,
      "outputs": []
    },
    {
      "cell_type": "markdown",
      "metadata": {
        "id": "6NLtbp9hjd3E"
      },
      "source": [
        "## Book"
      ]
    },
    {
      "cell_type": "code",
      "metadata": {
        "id": "EDLBKUg0TtmX"
      },
      "source": [
        "class Book(Base):\n",
        "  __tablename__ = 'books'\n",
        "\n",
        "  id = Column(Integer, primary_key=True, autoincrement=True, unique=True, nullable=False)\n",
        "  translated = Column(Boolean, nullable=True)\n",
        "  printed = Column(Boolean, nullable=True)\n",
        "  isbn = Column(String, nullable=False)\n",
        "\n",
        "  orders = relationship(\n",
        "      \"Order\", \n",
        "      backref=\"book\",\n",
        "      cascade=\"all, delete\")\n",
        "  license = relationship(\n",
        "      \"License\", \n",
        "      uselist=False, \n",
        "      backref=\"book\",\n",
        "      cascade=\"all, delete\")\n",
        "  workers = relationship(\n",
        "    \"Worker\",\n",
        "    secondary=lambda: Group,\n",
        "    backref=\"books\")\n",
        "\n",
        "  def __repr__(self):\n",
        "    return \"<Book(id='%s', translated='%s', printed='%s', isbn='%s')>\" % (\n",
        "  self.id, self.translated, self.printed, self.isbn)"
      ],
      "execution_count": null,
      "outputs": []
    },
    {
      "cell_type": "markdown",
      "metadata": {
        "id": "T-Vu922Hjgb6"
      },
      "source": [
        "## License"
      ]
    },
    {
      "cell_type": "code",
      "metadata": {
        "id": "frNas4chTylR"
      },
      "source": [
        "class License(Base):\n",
        "  __tablename__ = 'licenses'\n",
        "\n",
        "  id = Column(Integer, primary_key=True, autoincrement=True, unique=True, \n",
        "              nullable=False)\n",
        "  book_id = Column(Integer, ForeignKey('books.id'), unique=True, nullable=False)\n",
        "  expiration_date = Column(DateTime, nullable=False)\n",
        "  title = Column(String, nullable=False)\n",
        "  \n",
        "  #book = relationship( \"Book\", back_populates=\"license\")\n",
        "\n",
        "  def __repr__(self):\n",
        "    expiration_date = self.expiration_date\n",
        "    if expiration_date is not None:\n",
        "      expiration_date = expiration_date.strftime(\"%d-%b-%Y_%H:%M\")\n",
        "    return \"<License(id='%s', book_id='%s', expiration_date='%s', title='%s')>\" % (\n",
        "        self.id, self.book_id, expiration_date, self.title)"
      ],
      "execution_count": null,
      "outputs": []
    },
    {
      "cell_type": "markdown",
      "metadata": {
        "id": "fwTQ6gumjkPm"
      },
      "source": [
        "## Group"
      ]
    },
    {
      "cell_type": "code",
      "metadata": {
        "id": "6ltggD24T0nF"
      },
      "source": [
        "Group = Table('groups', Base.metadata,\n",
        "    Column('id', Integer, primary_key=True, autoincrement=True, unique=True, \n",
        "           nullable=False),\n",
        "    Column('worker_id', Integer, ForeignKey('workers.id'), nullable=False),\n",
        "    Column('book_id', Integer, ForeignKey('books.id'), nullable=False)\n",
        ")\n"
      ],
      "execution_count": null,
      "outputs": []
    },
    {
      "cell_type": "markdown",
      "metadata": {
        "id": "u5hDgWC1jnQY"
      },
      "source": [
        "## Worker"
      ]
    },
    {
      "cell_type": "code",
      "metadata": {
        "id": "7YEFEieuT3_Q"
      },
      "source": [
        "class Worker(Base):\n",
        "  __tablename__ = 'workers'\n",
        "\n",
        "  id = Column(Integer, primary_key=True, autoincrement=True, unique=True, \n",
        "              nullable=False)\n",
        "  position = Column(String, nullable=True)\n",
        "  name = Column(String, nullable=False)\n",
        "\n",
        "  \n",
        "  #books = relationship(\"Book\", secondary=association_groups_table, back_populates=\"workers\")\n",
        "\n",
        "  def __repr__(self):\n",
        "    return \"<Worker(id='%s', position='%s', name='%s')>\" % (\n",
        "        self.id, self.position, self.name)"
      ],
      "execution_count": null,
      "outputs": []
    },
    {
      "cell_type": "markdown",
      "metadata": {
        "id": "eTQ4rhg0jr13"
      },
      "source": [
        "## create all"
      ]
    },
    {
      "cell_type": "code",
      "metadata": {
        "id": "025TWBbTix-J"
      },
      "source": [
        "Base.metadata.create_all(engine)"
      ],
      "execution_count": null,
      "outputs": []
    },
    {
      "cell_type": "markdown",
      "metadata": {
        "id": "tWqkFxT9oYfz"
      },
      "source": [
        "# 2. Dao i DI"
      ]
    },
    {
      "cell_type": "markdown",
      "metadata": {
        "id": "tJ_ChFX4RCKj"
      },
      "source": [
        "## Client"
      ]
    },
    {
      "cell_type": "code",
      "metadata": {
        "id": "Mxts61CTUsig"
      },
      "source": [
        "from abc import ABC, abstractmethod\n",
        "\n",
        "\n",
        "class AbstractClientDao(ABC):\n",
        "\n",
        "  @abstractmethod\n",
        "  def __init__(self, Session):\n",
        "    pass\n",
        "    \n",
        "  @abstractmethod\n",
        "  def add_client(self, name, phone):\n",
        "    pass\n",
        "    \n",
        "  @abstractmethod\n",
        "  def get_client(self, id):\n",
        "    pass\n",
        "    \n",
        "  @abstractmethod\n",
        "  def get_clients(self):\n",
        "    pass\n",
        "    \n",
        "  @abstractmethod\n",
        "  def update_phone(self, id, phone):\n",
        "    pass\n",
        "\n",
        "  @abstractmethod\n",
        "  def delete(self, id):\n",
        "    pass\n",
        "\n",
        "\n",
        "class ClientDao(AbstractClientDao):\n",
        "\n",
        "  def __init__(self, session):\n",
        "    self.session = session\n",
        "    \n",
        "  def add_client(self, name, phone):\n",
        "    client = Client(name=name, phone=phone)\n",
        "    session.add(client)\n",
        "    return client\n",
        "    \n",
        "  def get_client(self, id):\n",
        "    return session.query(Client).filter_by(id=id).first()\n",
        "    \n",
        "  def get_clients(self):\n",
        "    return session.query(Client).all()\n",
        "    \n",
        "  def update_phone(self, id, phone):\n",
        "    client = session.query(Client).filter_by(id=id).first()\n",
        "    client.phone = phone\n",
        "    return client\n",
        "\n",
        "  def delete(self, id):\n",
        "    client = session.query(Client).filter(Client.id==id).first()\n",
        "    if client:\n",
        "      session.delete(client)\n",
        "\n",
        "\n",
        "class ClientDao_DI():\n",
        "\n",
        "  def __init__(self, clientDao):\n",
        "    self.clientDao = clientDao\n",
        "    \n",
        "  def add_client(self, name, phone):\n",
        "    return self.clientDao.add_client(name, phone)\n",
        "    \n",
        "  def get_client(self, id):\n",
        "    return self.clientDao.get_client(id)\n",
        "    \n",
        "  def get_clients(self):\n",
        "    return self.clientDao.get_clients()\n",
        "    \n",
        "  def update_phone(self, id, phone):\n",
        "    return self.clientDao.update_phone(id, phone)\n",
        "\n",
        "  def delete(self, id):\n",
        "    self.clientDao.delete(id)"
      ],
      "execution_count": null,
      "outputs": []
    },
    {
      "cell_type": "markdown",
      "metadata": {
        "id": "MkeudPKednaI"
      },
      "source": [
        "## Book"
      ]
    },
    {
      "cell_type": "code",
      "metadata": {
        "id": "TScw8w55dnAj"
      },
      "source": [
        "class AbstractBookDao(ABC):\n",
        "\n",
        "  @abstractmethod\n",
        "  def __init__(self, session):\n",
        "    pass\n",
        "    \n",
        "  @abstractmethod\n",
        "  def new_book(self, isbn):\n",
        "    pass\n",
        "    \n",
        "  @abstractmethod\n",
        "  def add_book(self, isbn):\n",
        "    pass\n",
        "    \n",
        "  @abstractmethod\n",
        "  def get_book(self, id):\n",
        "    pass\n",
        "    \n",
        "  @abstractmethod\n",
        "  def get_books(self):\n",
        "    pass\n",
        "    \n",
        "  @abstractmethod\n",
        "  def update_book(self, id, translated=False, printed=False):\n",
        "    pass\n",
        "\n",
        "  @abstractmethod\n",
        "  def delete(self, id):\n",
        "    pass\n",
        "    \n",
        "\n",
        "class BookDao(AbstractBookDao):\n",
        "\n",
        "  def __init__(self, session):\n",
        "    self.session = session\n",
        "    \n",
        "  def new_book(self, isbn):    \n",
        "    book = session.query(Book).filter_by(isbn=isbn).first()\n",
        "    if book is None:\n",
        "      book = Book(isbn=isbn)\n",
        "    return book\n",
        "\n",
        "  def add_book(self, isbn):\n",
        "    book = self.new_book(isbn)\n",
        "    session.add(book)\n",
        "    return book\n",
        "    \n",
        "  def get_book(self, id):\n",
        "    return session.query(Book).filter_by(id=id).first()\n",
        "    \n",
        "  def get_books(self):\n",
        "    return session.query(Book).all()\n",
        "    \n",
        "  def update_book(self, id, translated=False, printed=False):\n",
        "    book = session.query(Book).filter_by(id=id).first()\n",
        "    book.translated = translated\n",
        "    book.printed = printed\n",
        "    return book\n",
        "\n",
        "  def delete(self, id):\n",
        "    book = session.query(Book).filter(Book.id==id).first()\n",
        "    if book:\n",
        "      session.delete(book)\n",
        "  \n",
        "class BookDao_DI():\n",
        "\n",
        "  def __init__(self, bookDao):\n",
        "    self.bookDao = bookDao\n",
        "    \n",
        "  def new_book(self, isbn):\n",
        "    return self.bookDao.new_book(isbn)\n",
        "    \n",
        "  def add_book(self, isbn):\n",
        "    return self.bookDao.add_book(isbn)\n",
        "    \n",
        "  def get_book(self, id):\n",
        "    return self.bookDao.get_book(id)\n",
        "    \n",
        "  def get_books(self):\n",
        "    return self.bookDao.get_books()\n",
        "    \n",
        "  def update_book(self, id, translated=False, printed=False):\n",
        "    return self.bookDao.update_book(id, translated=False, printed=False)\n",
        "\n",
        "  def delete(self, id):\n",
        "    self.bookDao.delete(id)"
      ],
      "execution_count": null,
      "outputs": []
    },
    {
      "cell_type": "markdown",
      "metadata": {
        "id": "MGj90VaxdLzx"
      },
      "source": [
        "## Order"
      ]
    },
    {
      "cell_type": "code",
      "metadata": {
        "id": "sk84FU8OqS0b"
      },
      "source": [
        "# creates orders (and if not present, books) in db\n",
        "\n",
        "\n",
        "class AbstractOrderDao(ABC):\n",
        "\n",
        "  @abstractmethod\n",
        "  def __init__(self, session):\n",
        "    pass\n",
        "    \n",
        "  @abstractmethod\n",
        "  def add_order(self, client, date, total, book):\n",
        "    pass\n",
        "    \n",
        "  @abstractmethod\n",
        "  def get_order(self, id):\n",
        "    pass\n",
        "    \n",
        "  @abstractmethod\n",
        "  def get_orders(self):\n",
        "    pass\n",
        "    \n",
        "  @abstractmethod\n",
        "  def close_order(self, id, date):\n",
        "    pass\n",
        "\n",
        "  @abstractmethod\n",
        "  def delete(self, id):\n",
        "    pass\n",
        "    \n",
        "    \n",
        "\n",
        "\n",
        "class OrderDao(AbstractOrderDao):\n",
        "\n",
        "  def __init__(self, session):\n",
        "    self.session = session\n",
        "\n",
        "  def add_order(self, client, date, total, book):\n",
        "    order = Order(client=client, ordered_date=date, total=total, book=book)\n",
        "    session.add(order)\n",
        "    return order\n",
        "    \n",
        "  def get_order(self, id):\n",
        "    return session.query(Order).filter_by(id=id).first()\n",
        "    \n",
        "  def get_orders(self):\n",
        "    return session.query(Order).all()\n",
        "    \n",
        "  def close_order(self, id, date):\n",
        "    order = session.query(Order).filter_by(id=id).first()\n",
        "    order.completion_date = date\n",
        "    return order\n",
        "\n",
        "  def delete(self, id):\n",
        "    order = session.query(Order).filter(Order.id==id).first()\n",
        "    if order:\n",
        "      session.delete(order)\n",
        "\n",
        "\n",
        "class OrderDao_DI():\n",
        "\n",
        "  def __init__(self, orderDao):\n",
        "    self.orderDao = orderDao\n",
        "    \n",
        "  def add_order(self, client, date, total, book):\n",
        "    return self.orderDao.add_order(client, date, total, book)\n",
        "    \n",
        "  def get_order(self, id):\n",
        "    return self.orderDao.get_order(id)\n",
        "    \n",
        "  def get_orders(self):\n",
        "    return self.orderDao.get_orders()\n",
        "    \n",
        "  def close_order(self, id, date):\n",
        "    return self.orderDao.close_order(id, date)\n",
        "\n",
        "  def delete(self, id):\n",
        "    self.orderDao.delete(id)"
      ],
      "execution_count": null,
      "outputs": []
    },
    {
      "cell_type": "markdown",
      "metadata": {
        "id": "I3tewdbpnEc8"
      },
      "source": [
        "## License"
      ]
    },
    {
      "cell_type": "code",
      "metadata": {
        "id": "Se3nPoz3ajNW"
      },
      "source": [
        "# creates licenses (if don't exist) in db\n",
        "\n",
        "\n",
        "class AbstractLicenseDao(ABC):\n",
        "\n",
        "  @abstractmethod\n",
        "  def __init__(self, session):\n",
        "    pass\n",
        "    \n",
        "  @abstractmethod\n",
        "  def new_license(self, book, date, title):\n",
        "    pass\n",
        "    \n",
        "  @abstractmethod\n",
        "  def add_license(self, book, date, title):\n",
        "    pass\n",
        "    \n",
        "  @abstractmethod\n",
        "  def get_license(self, id):\n",
        "    pass\n",
        "    \n",
        "  @abstractmethod\n",
        "  def get_licenses(self):\n",
        "    pass\n",
        "    \n",
        "  @abstractmethod\n",
        "  def update_title(self, id, title):\n",
        "    pass\n",
        "\n",
        "  @abstractmethod\n",
        "  def delete(self, id):\n",
        "    pass\n",
        "    \n",
        "\n",
        "class LicenseDao(AbstractLicenseDao):\n",
        "\n",
        "  def __init__(self, session):\n",
        "    self.session = session\n",
        "    \n",
        "  def new_license(self, book, date, title):\n",
        "    old_license = session.query(License).filter_by(book=book).first()\n",
        "    if old_license is not None:\n",
        "      old_license.expiration_date = date\n",
        "      old_license.title = title\n",
        "      return old_license\n",
        "    return License(book=book, expiration_date=date, title=title)\n",
        "\n",
        "  def add_license(self, book, date, title):\n",
        "    license = self.new_license(book, date, title)\n",
        "    session.add(license)\n",
        "    return license\n",
        "    \n",
        "  def get_license(self, id):\n",
        "    return session.query(License).filter_by(id=id).first()\n",
        "    \n",
        "  def get_licenses(self):\n",
        "    return session.query(License).all()\n",
        "    \n",
        "  def update_title(self, id, title):\n",
        "    license = session.query(License).filter_by(id=id).first()\n",
        "    license.title = title\n",
        "    return license\n",
        "\n",
        "  def delete(self, id):\n",
        "    license = session.query(License).filter(License.id==id).first()\n",
        "    if license:\n",
        "      session.delete(license)\n",
        "      \n",
        "class LicenseDao_DI():\n",
        "\n",
        "  def __init__(self, licenseDao):\n",
        "    self.licenseDao = licenseDao\n",
        "    \n",
        "  def new_license(self, book, date, title):\n",
        "    return self.licenseDao.new_license(book, date, title)\n",
        "    \n",
        "  def add_license(self, book, date, title):\n",
        "    return self.licenseDao.add_license(book, date, title)\n",
        "    \n",
        "  def get_license(self, id):\n",
        "    return self.licenseDao.get_license(id)\n",
        "    \n",
        "  def get_licenses(self):\n",
        "    return self.licenseDao.get_licenses()\n",
        "    \n",
        "  def update_title(self, id, title):\n",
        "    return self.licenseDao.update_title(id, title)\n",
        "\n",
        "  def delete(self, id):\n",
        "    self.licenseDao.delete(id)\n"
      ],
      "execution_count": null,
      "outputs": []
    },
    {
      "cell_type": "markdown",
      "metadata": {
        "id": "JohGdfKcqyml"
      },
      "source": [
        "## Worker"
      ]
    },
    {
      "cell_type": "code",
      "metadata": {
        "id": "xIWI7V7Rfi3l"
      },
      "source": [
        "class AbstractWorkerDao(ABC):\n",
        "\n",
        "  @abstractmethod\n",
        "  def __init__(self, Session):\n",
        "    pass\n",
        "    \n",
        "  @abstractmethod\n",
        "  def add_worker(self, name, position):\n",
        "    pass\n",
        "    \n",
        "  @abstractmethod\n",
        "  def get_worker(self, id):\n",
        "    pass\n",
        "    \n",
        "  @abstractmethod\n",
        "  def get_workers(self):\n",
        "    pass\n",
        "    \n",
        "  @abstractmethod\n",
        "  def update_position(self, id, position):\n",
        "    pass\n",
        "\n",
        "  @abstractmethod\n",
        "  def delete(self, id):\n",
        "    pass\n",
        "\n",
        "\n",
        "class WorkerDao(AbstractWorkerDao):\n",
        "\n",
        "  def __init__(self, session):\n",
        "    self.session = session\n",
        "    \n",
        "  def add_worker(self, name, position):\n",
        "    worker = Worker(name=name, position=position)\n",
        "    session.add(worker)\n",
        "    return worker\n",
        "    \n",
        "  def get_worker(self, id):\n",
        "    return session.query(Worker).filter_by(id=id).first()\n",
        "    \n",
        "  def get_workers(self):\n",
        "    return session.query(Worker).all()\n",
        "    \n",
        "  def update_position(self, id, position):\n",
        "    worker = session.query(Worker).filter_by(id=id).first()\n",
        "    worker.position = position\n",
        "    return worker\n",
        "\n",
        "  def delete(self, id):\n",
        "    worker = session.query(Worker).filter(Worker.id==id).first()\n",
        "    if worker:\n",
        "      session.delete(worker)\n",
        "  \n",
        "class WorkerDao_DI():\n",
        "\n",
        "  @abstractmethod\n",
        "  def __init__(self, workerDao):\n",
        "    self.workerDao = workerDao\n",
        "    \n",
        "  @abstractmethod\n",
        "  def add_worker(self, name, position):\n",
        "    return self.workerDao.add_worker(name, position)\n",
        "    \n",
        "  @abstractmethod\n",
        "  def get_worker(self, id):\n",
        "    return self.workerDao.get_worker(id)\n",
        "    \n",
        "  @abstractmethod\n",
        "  def get_workers(self):\n",
        "    return self.workerDao.get_workers()\n",
        "    \n",
        "  @abstractmethod\n",
        "  def update_position(self, id, position):\n",
        "    return self.workerDao.update_position(id, position)\n",
        "\n",
        "  @abstractmethod\n",
        "  def delete(self, id):\n",
        "    self.workerDao.delete(id)"
      ],
      "execution_count": null,
      "outputs": []
    },
    {
      "cell_type": "markdown",
      "metadata": {
        "id": "CaHI_p8lsuKo"
      },
      "source": [
        "## Group"
      ]
    },
    {
      "cell_type": "code",
      "metadata": {
        "id": "mP1gf6w9hP-5"
      },
      "source": [
        "# creates groups in db (assigns workers to books)\n",
        "class AbstractGroupDao(ABC):\n",
        "\n",
        "  @abstractmethod\n",
        "  def __init__(self, Session):\n",
        "    pass\n",
        "    \n",
        "  @abstractmethod\n",
        "  def add_group(self, book, worker):\n",
        "    pass\n",
        "    \n",
        "  @abstractmethod\n",
        "  def get_group(self, id):\n",
        "    pass\n",
        "    \n",
        "  @abstractmethod\n",
        "  def get_groups(self):\n",
        "    pass\n",
        "\n",
        "  @abstractmethod\n",
        "  def delete(self, id):\n",
        "    pass\n",
        "\n",
        "\n",
        "class GroupDao(AbstractGroupDao):\n",
        "\n",
        "  def __init__(self, session):\n",
        "    self.session = session\n",
        "    \n",
        "  def add_group(self, book, worker):\n",
        "    book.workers.append(worker)\n",
        "    return book\n",
        "    \n",
        "  def get_group(self, id):\n",
        "    return session.query(Group).filter_by(id=id).first()\n",
        "    \n",
        "  def get_groups(self):\n",
        "    return session.query(Group).all()\n",
        "\n",
        "  def delete(self, id):\n",
        "    group = session.query(Group).filter(Group.c.id==id).first()\n",
        "    if group:\n",
        "      worker = session.query(Worker).filter(Worker.id==group.worker_id).first()\n",
        "      book = session.query(Book).filter(Book.id==group.book_id).first()\n",
        "      worker.books.remove(book)\n",
        "\n",
        "class GroupDao_DI():\n",
        "\n",
        "  def __init__(self, groupDao):\n",
        "    self.groupDao = groupDao\n",
        "    \n",
        "  def add_group(self, book, worker):\n",
        "    return self.groupDao.add_group(book, worker)\n",
        "    \n",
        "  def get_group(self, id):\n",
        "    return self.groupDao.get_group(id)\n",
        "    \n",
        "  def get_groups(self):\n",
        "    return self.groupDao.get_groups()\n",
        "\n",
        "  def delete(self, id):\n",
        "    self.groupDao.delete(id)"
      ],
      "execution_count": null,
      "outputs": []
    },
    {
      "cell_type": "markdown",
      "metadata": {
        "id": "De3iqvBIgvqp"
      },
      "source": [
        "## Фабрика"
      ]
    },
    {
      "cell_type": "code",
      "metadata": {
        "id": "YyESgU5sgyoE"
      },
      "source": [
        "class DaoFactory():\n",
        "  clientDao = None\n",
        "  bookDao = None\n",
        "  orderDao = None\n",
        "  licenseDao = None\n",
        "  workerDao = None\n",
        "  groupDao = None\n",
        "\n",
        "  def __new__(cls, session):\n",
        "    if not hasattr(cls, 'instance'):\n",
        "      DaoFactory.clientDao = ClientDao_DI(ClientDao(session))\n",
        "      DaoFactory.bookDao = BookDao_DI(BookDao(session))\n",
        "      DaoFactory.orderDao = OrderDao_DI(OrderDao(session))\n",
        "      DaoFactory.licenseDao = LicenseDao_DI(LicenseDao(session))\n",
        "      DaoFactory.workerDao = WorkerDao_DI(WorkerDao(session))\n",
        "      DaoFactory.groupDao = GroupDao_DI(GroupDao(session))\n",
        "      cls.instance = super(DaoFactory, cls).__new__(cls)\n",
        "    return cls.instance\n",
        "\n",
        "  def getClientDao(s):\n",
        "    return DaoFactory.clientDao\n",
        "\n",
        "  def getBookDao(s):\n",
        "    return DaoFactory.bookDao\n",
        "\n",
        "  def getOrderDao(s):\n",
        "    return DaoFactory.orderDao\n",
        "\n",
        "  def getLicenseDao(s):\n",
        "    return DaoFactory.licenseDao\n",
        "\n",
        "  def getWorkerDao(s):\n",
        "    return DaoFactory.workerDao\n",
        "\n",
        "  def getGroupDao(s):\n",
        "    return DaoFactory.groupDao"
      ],
      "execution_count": null,
      "outputs": []
    },
    {
      "cell_type": "markdown",
      "metadata": {
        "id": "0yiMFhl8tfak"
      },
      "source": [
        "# Заповнення бази даних тестовим набором даних"
      ]
    },
    {
      "cell_type": "code",
      "metadata": {
        "id": "_U-hSU6cUw13"
      },
      "source": [
        "test_clients_data = [(\"John\", \"00007777\"),\n",
        "                     (\"Mike\", \"00014563\"),\n",
        "                     (\"Lod\", \"300566003\"),\n",
        "                     (\"Riel\", \"00007\"),\n",
        "                     (\"Alex\", \"036\")]\n",
        "test_orders_data = [(1, datetime.datetime.now() - datetime.timedelta(weeks=120),\n",
        "                      775, \"775-557-555\"),\n",
        "                     (2, datetime.datetime.now() - datetime.timedelta(weeks=9), \n",
        "                      995, \"775-333-555\"),\n",
        "                     (3, datetime.datetime.now() - datetime.timedelta(days=2), \n",
        "                      775, \"999-557-555\"),\n",
        "                     (1, datetime.datetime.now() - datetime.timedelta(hours=2), \n",
        "                      1120, \"775-557-666\"),\n",
        "                     (4, datetime.datetime.now() - datetime.timedelta(minutes=2), \n",
        "                      475, \"775-557-555\")]\n",
        "test_licenses_data = [(1, datetime.datetime.now() + datetime.timedelta(weeks=50), \n",
        "                      'J.K.Loving \"Stone of Potter\"'),\n",
        "                     (2, datetime.datetime.now() + datetime.timedelta(weeks=90), \n",
        "                      'Niel Meiman \"Ukrainian Gods\"'),\n",
        "                     (3, datetime.datetime.now() + datetime.timedelta(weeks=120), \n",
        "                      'Lerry Pratchett \"Gort\"')]\n",
        "test_workers_data = [(\"Johnathan\", \"Designer\"),\n",
        "                     (\"Mickael\", \"Translator\"),\n",
        "                     (\"Wsewolod\", \"Translator\"),\n",
        "                     (\"Gabriel\", \"Editor\"),\n",
        "                     (\"Alexandra\", \"Editor\")]\n",
        "test_groups_data = [(2, 1),\n",
        "                    (2, 5),\n",
        "                    (3, 1),\n",
        "                    (3, 2),\n",
        "                    (3, 3),\n",
        "                    (3, 5)]\n",
        "\n",
        "def fill_db(session):\n",
        "  try:\n",
        "    fact = DaoFactory(session)\n",
        "\n",
        "    clients = fact.getClientDao()\n",
        "    for name, phone in test_clients_data:\n",
        "      clients.add_client(name, phone)\n",
        "    session.commit()\n",
        "\n",
        "    books = fact.getBookDao()\n",
        "    orders = fact.getOrderDao()\n",
        "    for client_id, order_date, total, isbn in test_orders_data:\n",
        "      book = books.add_book(isbn)\n",
        "      orders.add_order(clients.get_client(client_id), order_date, total, book)\n",
        "    session.commit()\n",
        "\n",
        "    licenses = fact.getLicenseDao()\n",
        "    for order_id, expiration_date, title in test_licenses_data:\n",
        "      licenses.add_license(orders.get_order(order_id).book, expiration_date, title)\n",
        "    session.commit()\n",
        "\n",
        "    workers = fact.getWorkerDao()\n",
        "    for name, position in test_workers_data:\n",
        "      workers.add_worker(name, position)\n",
        "    session.commit()\n",
        "\n",
        "    groups = fact.getGroupDao()\n",
        "    for order_id, worker_id in test_groups_data:\n",
        "      groups.add_group(orders.get_order(order_id).book, workers.get_worker(worker_id))\n",
        "    session.commit()\n",
        "\n",
        "  except:\n",
        "    session.rollback()\n",
        "    raise\n",
        "  finally:\n",
        "    session.close()\n",
        "\n",
        "\n",
        "session = Session()\n",
        "fill_db(session)"
      ],
      "execution_count": null,
      "outputs": []
    },
    {
      "cell_type": "markdown",
      "metadata": {
        "id": "30B2rniC0bAw"
      },
      "source": [
        "# Друк вмісту бази даних"
      ]
    },
    {
      "cell_type": "code",
      "metadata": {
        "id": "jRVuzPVs5Mtd"
      },
      "source": [
        "def print_clients(clients):\n",
        "  output = \"Clients (n={}):\\n\".format(len(clients))\n",
        "  for client in clients:\n",
        "    output += \"~~{}\\n\".format(client)\n",
        "  return(output)\n",
        "\n",
        "def print_books(books):\n",
        "  output = \"Books (n={}):\\n\".format(len(books))\n",
        "  for book in books:\n",
        "    output += \"~~{}\\n\".format(book)\n",
        "    output += \"~~~~ Orders (n={})\\n\".format(len(book.orders))\n",
        "    for order in book.orders:\n",
        "      output += \"~~~~~~{}\\n\".format(order)\n",
        "    output += \"~~~~ Workers (n={})\\n\".format(len(book.workers))\n",
        "    for worker in book.workers:\n",
        "      output += \"~~~~~~{}\\n\".format(worker)\n",
        "    if book.license is not None:\n",
        "      output += \"~~~~{}\\n\".format(book.license)\n",
        "    else:\n",
        "      output += \"~~~~ License (is not present)\\n\"\n",
        "  return(output)\n",
        "\n",
        "def print_orders(orders):\n",
        "  output = \"Orders (n={}):\\n\".format(len(orders))\n",
        "  for order in orders:\n",
        "    output += \"~~{}\\n\".format(order)\n",
        "    output += \"~~~~ {}\\n\".format(order.client)\n",
        "    output += \"~~~~ {}\\n\".format(order.book)\n",
        "  return(output)\n",
        "\n",
        "def print_licenses(licenses):\n",
        "  output = \"Licenses (n={}):\\n\".format(len(licenses))\n",
        "  for license in licenses:\n",
        "    output += \"~~{}\\n\".format(license)\n",
        "    output += \"~~~~ {}\\n\".format(license.book)\n",
        "  return(output)\n",
        "\n",
        "def print_workers(workers):\n",
        "  output = \"Workers (n={}):\\n\".format(len(workers))\n",
        "  for worker in workers:\n",
        "    output += \"~~{}\\n\".format(worker)\n",
        "  return(output)\n",
        "\n",
        "def print_groups(groups):\n",
        "  output = \"Groups (n={}):\\n\".format(len(groups))\n",
        "  for group in groups:\n",
        "    output += \"~~<Group(id='{}', book_id='{}', worker_id='{}')>\\n\".format(\n",
        "        group.id, group.book_id, group.worker_id)\n",
        "  return(output)\n"
      ],
      "execution_count": null,
      "outputs": []
    },
    {
      "cell_type": "markdown",
      "metadata": {
        "id": "sZD59CRpBX36"
      },
      "source": [
        "## print_all(session)"
      ]
    },
    {
      "cell_type": "code",
      "metadata": {
        "colab": {
          "base_uri": "https://localhost:8080/"
        },
        "id": "3C2374RUBZtq",
        "outputId": "9ad4ea67-2f0f-408a-f451-04546a360171"
      },
      "source": [
        "def print_all(session):\n",
        "  \n",
        "  fact = DaoFactory(session)\n",
        "\n",
        "  clients = fact.getClientDao()\n",
        "  books = fact.getBookDao()\n",
        "  orders = fact.getOrderDao()\n",
        "  licenses = fact.getLicenseDao()\n",
        "  workers = fact.getWorkerDao()\n",
        "  groups = fact.getGroupDao()\n",
        "\n",
        "  all_clients = clients.get_clients()\n",
        "  all_books = books.get_books()\n",
        "  all_orders = orders.get_orders()\n",
        "  all_licenses = licenses.get_licenses()\n",
        "  all_workers = workers.get_workers()\n",
        "  all_groups = groups.get_groups()\n",
        "\n",
        "  print(\"\\n\\n((((____----**0**----____))))\\n\")\n",
        "  print(print_clients(all_clients))\n",
        "  print(\"----**0**----\\n\")\n",
        "  print(print_books(all_books))\n",
        "  print(\"----**0**----\\n\")\n",
        "  print(print_orders(all_orders))\n",
        "  print(\"----**0**----\\n\")\n",
        "  print(print_licenses(all_licenses))\n",
        "  print(\"----**0**----\\n\")\n",
        "  print(print_workers(all_workers))\n",
        "  print(\"----**0**----\\n\")\n",
        "  print(print_groups(all_groups))\n",
        "  print(\"----**0**----\\n\")\n",
        "\n",
        "print_all(session)"
      ],
      "execution_count": null,
      "outputs": [
        {
          "output_type": "stream",
          "text": [
            "2020-12-05 02:17:52,445 INFO sqlalchemy.engine.base.Engine SELECT clients.id AS clients_id, clients.name AS clients_name, clients.phone AS clients_phone \n",
            "FROM clients\n",
            "2020-12-05 02:17:52,446 INFO sqlalchemy.engine.base.Engine ()\n",
            "2020-12-05 02:17:52,449 INFO sqlalchemy.engine.base.Engine SELECT books.id AS books_id, books.translated AS books_translated, books.printed AS books_printed, books.isbn AS books_isbn \n",
            "FROM books\n",
            "2020-12-05 02:17:52,450 INFO sqlalchemy.engine.base.Engine ()\n",
            "2020-12-05 02:17:52,452 INFO sqlalchemy.engine.base.Engine SELECT orders.id AS orders_id, orders.client_id AS orders_client_id, orders.book_id AS orders_book_id, orders.ordered_date AS orders_ordered_date, orders.total AS orders_total, orders.completion_date AS orders_completion_date \n",
            "FROM orders\n",
            "2020-12-05 02:17:52,454 INFO sqlalchemy.engine.base.Engine ()\n",
            "2020-12-05 02:17:52,457 INFO sqlalchemy.engine.base.Engine SELECT licenses.id AS licenses_id, licenses.book_id AS licenses_book_id, licenses.expiration_date AS licenses_expiration_date, licenses.title AS licenses_title \n",
            "FROM licenses\n",
            "2020-12-05 02:17:52,462 INFO sqlalchemy.engine.base.Engine ()\n",
            "2020-12-05 02:17:52,466 INFO sqlalchemy.engine.base.Engine SELECT workers.id AS workers_id, workers.position AS workers_position, workers.name AS workers_name \n",
            "FROM workers\n",
            "2020-12-05 02:17:52,467 INFO sqlalchemy.engine.base.Engine ()\n",
            "2020-12-05 02:17:52,471 INFO sqlalchemy.engine.base.Engine SELECT groups.id AS groups_id, groups.worker_id AS groups_worker_id, groups.book_id AS groups_book_id \n",
            "FROM groups\n",
            "2020-12-05 02:17:52,472 INFO sqlalchemy.engine.base.Engine ()\n",
            "\n",
            "\n",
            "((((____----**0**----____))))\n",
            "\n",
            "Clients (n=5):\n",
            "~~<Client(id='1', name='John', phone='00007777')>\n",
            "~~<Client(id='2', name='Mike', phone='00014563')>\n",
            "~~<Client(id='3', name='Lod', phone='300566003')>\n",
            "~~<Client(id='4', name='Riel', phone='00007')>\n",
            "~~<Client(id='5', name='Alex', phone='036')>\n",
            "\n",
            "----**0**----\n",
            "\n",
            "Books (n=4):\n",
            "~~<Book(id='1', translated='None', printed='None', isbn='775-557-555')>\n",
            "~~~~ Orders (n=2)\n",
            "~~~~~~<Order(id='1', client_id='1', book_id='1', ordered_date='18-Aug-2018_02:17',total='775',completion_date='None')>\n",
            "~~~~~~<Order(id='5', client_id='4', book_id='1', ordered_date='05-Dec-2020_02:15',total='475',completion_date='None')>\n",
            "~~~~ Workers (n=0)\n",
            "~~~~<License(id='1', book_id='1', expiration_date='20-Nov-2021_02:17', title='J.K.Loving \"Stone of Potter\"')>\n",
            "~~<Book(id='2', translated='None', printed='None', isbn='775-333-555')>\n",
            "~~~~ Orders (n=1)\n",
            "~~~~~~<Order(id='2', client_id='2', book_id='2', ordered_date='03-Oct-2020_02:17',total='995',completion_date='None')>\n",
            "~~~~ Workers (n=2)\n",
            "~~~~~~<Worker(id='1', position='Designer', name='Johnathan')>\n",
            "~~~~~~<Worker(id='5', position='Editor', name='Alexandra')>\n",
            "~~~~<License(id='2', book_id='2', expiration_date='27-Aug-2022_02:17', title='Niel Meiman \"Ukrainian Gods\"')>\n",
            "~~<Book(id='3', translated='None', printed='None', isbn='999-557-555')>\n",
            "~~~~ Orders (n=1)\n",
            "~~~~~~<Order(id='3', client_id='3', book_id='3', ordered_date='03-Dec-2020_02:17',total='775',completion_date='None')>\n",
            "~~~~ Workers (n=4)\n",
            "~~~~~~<Worker(id='1', position='Designer', name='Johnathan')>\n",
            "~~~~~~<Worker(id='2', position='Translator', name='Mickael')>\n",
            "~~~~~~<Worker(id='3', position='Translator', name='Wsewolod')>\n",
            "~~~~~~<Worker(id='5', position='Editor', name='Alexandra')>\n",
            "~~~~<License(id='3', book_id='3', expiration_date='25-Mar-2023_02:17', title='Lerry Pratchett \"Gort\"')>\n",
            "~~<Book(id='4', translated='None', printed='None', isbn='775-557-666')>\n",
            "~~~~ Orders (n=1)\n",
            "~~~~~~<Order(id='4', client_id='1', book_id='4', ordered_date='05-Dec-2020_00:17',total='1120',completion_date='None')>\n",
            "~~~~ Workers (n=0)\n",
            "~~~~ License (is not present)\n",
            "\n",
            "----**0**----\n",
            "\n",
            "Orders (n=5):\n",
            "~~<Order(id='1', client_id='1', book_id='1', ordered_date='18-Aug-2018_02:17',total='775',completion_date='None')>\n",
            "~~~~ <Client(id='1', name='John', phone='00007777')>\n",
            "~~~~ <Book(id='1', translated='None', printed='None', isbn='775-557-555')>\n",
            "~~<Order(id='2', client_id='2', book_id='2', ordered_date='03-Oct-2020_02:17',total='995',completion_date='None')>\n",
            "~~~~ <Client(id='2', name='Mike', phone='00014563')>\n",
            "~~~~ <Book(id='2', translated='None', printed='None', isbn='775-333-555')>\n",
            "~~<Order(id='3', client_id='3', book_id='3', ordered_date='03-Dec-2020_02:17',total='775',completion_date='None')>\n",
            "~~~~ <Client(id='3', name='Lod', phone='300566003')>\n",
            "~~~~ <Book(id='3', translated='None', printed='None', isbn='999-557-555')>\n",
            "~~<Order(id='4', client_id='1', book_id='4', ordered_date='05-Dec-2020_00:17',total='1120',completion_date='None')>\n",
            "~~~~ <Client(id='1', name='John', phone='00007777')>\n",
            "~~~~ <Book(id='4', translated='None', printed='None', isbn='775-557-666')>\n",
            "~~<Order(id='5', client_id='4', book_id='1', ordered_date='05-Dec-2020_02:15',total='475',completion_date='None')>\n",
            "~~~~ <Client(id='4', name='Riel', phone='00007')>\n",
            "~~~~ <Book(id='1', translated='None', printed='None', isbn='775-557-555')>\n",
            "\n",
            "----**0**----\n",
            "\n",
            "Licenses (n=3):\n",
            "~~<License(id='1', book_id='1', expiration_date='20-Nov-2021_02:17', title='J.K.Loving \"Stone of Potter\"')>\n",
            "~~~~ <Book(id='1', translated='None', printed='None', isbn='775-557-555')>\n",
            "~~<License(id='2', book_id='2', expiration_date='27-Aug-2022_02:17', title='Niel Meiman \"Ukrainian Gods\"')>\n",
            "~~~~ <Book(id='2', translated='None', printed='None', isbn='775-333-555')>\n",
            "~~<License(id='3', book_id='3', expiration_date='25-Mar-2023_02:17', title='Lerry Pratchett \"Gort\"')>\n",
            "~~~~ <Book(id='3', translated='None', printed='None', isbn='999-557-555')>\n",
            "\n",
            "----**0**----\n",
            "\n",
            "Workers (n=5):\n",
            "~~<Worker(id='1', position='Designer', name='Johnathan')>\n",
            "~~<Worker(id='2', position='Translator', name='Mickael')>\n",
            "~~<Worker(id='3', position='Translator', name='Wsewolod')>\n",
            "~~<Worker(id='4', position='Editor', name='Gabriel')>\n",
            "~~<Worker(id='5', position='Editor', name='Alexandra')>\n",
            "\n",
            "----**0**----\n",
            "\n",
            "Groups (n=6):\n",
            "~~<Group(id='1', book_id='2', worker_id='1')>\n",
            "~~<Group(id='2', book_id='2', worker_id='5')>\n",
            "~~<Group(id='3', book_id='3', worker_id='1')>\n",
            "~~<Group(id='4', book_id='3', worker_id='2')>\n",
            "~~<Group(id='5', book_id='3', worker_id='3')>\n",
            "~~<Group(id='6', book_id='3', worker_id='5')>\n",
            "\n",
            "----**0**----\n",
            "\n"
          ],
          "name": "stdout"
        }
      ]
    },
    {
      "cell_type": "markdown",
      "metadata": {
        "id": "hUrecrt0ByKf"
      },
      "source": [
        "# Демонстрація операцій"
      ]
    },
    {
      "cell_type": "markdown",
      "metadata": {
        "id": "fEtVcQrAB5Tw"
      },
      "source": [
        "## вставка"
      ]
    },
    {
      "cell_type": "code",
      "metadata": {
        "id": "b9DBiU3uB4tl"
      },
      "source": [
        "def test_insert(session):\n",
        "  try:\n",
        "\n",
        "    fact = DaoFactory(session)\n",
        "\n",
        "    clients = fact.getClientDao()\n",
        "    books = fact.getBookDao()\n",
        "    orders = fact.getOrderDao()\n",
        "    licenses = fact.getLicenseDao()\n",
        "    workers = fact.getWorkerDao()\n",
        "    groups = fact.getGroupDao()\n",
        "\n",
        "    client = clients.add_client('New Client', \"007-33-55\")\n",
        "    session.commit()\n",
        "    book = books.add_book('3333-555-4444')\n",
        "    session.commit()\n",
        "    orders.add_order(client, datetime.datetime.now(), 100, book)\n",
        "    session.commit()\n",
        "    licenses.add_license(book, \n",
        "                         datetime.datetime.now() + datetime.timedelta(weeks=130), \n",
        "                         'R.M. Oswald \"Prankenstein\"')\n",
        "    session.commit()\n",
        "    worker = workers.add_worker(\"New Worker\", \"Editor\")\n",
        "    session.commit()\n",
        "    groups.add_group(book, worker)\n",
        "    session.commit()\n",
        "  except:\n",
        "    session.rollback()\n",
        "    raise\n",
        "  finally:\n",
        "    session.close()\n",
        "\n",
        "test_insert(session)"
      ],
      "execution_count": null,
      "outputs": []
    },
    {
      "cell_type": "code",
      "metadata": {
        "id": "J9DW_m7SEj_E"
      },
      "source": [
        "print_all(session)"
      ],
      "execution_count": null,
      "outputs": []
    },
    {
      "cell_type": "markdown",
      "metadata": {
        "id": "kihbRt2GEzDU"
      },
      "source": [
        "## заміна"
      ]
    },
    {
      "cell_type": "code",
      "metadata": {
        "id": "ocW-19lkE4cB"
      },
      "source": [
        "def test_update(session):\n",
        "  try:\n",
        "\n",
        "    fact = DaoFactory(session)\n",
        "\n",
        "    clients = fact.getClientDao()\n",
        "    books = fact.getBookDao()\n",
        "    orders = fact.getOrderDao()\n",
        "    licenses = fact.getLicenseDao()\n",
        "    workers = fact.getWorkerDao()\n",
        "    groups = fact.getGroupDao()\n",
        "\n",
        "    clients.update_phone(6, \"007-33-55-uuuu\")\n",
        "    session.commit()\n",
        "    books.update_book(5, translated=True, printed=True)\n",
        "    session.commit()\n",
        "    orders.close_order(6, datetime.datetime.now())\n",
        "    session.commit()\n",
        "    licenses.update_title(4, 'R.M. Oswald \"Prank War\"')\n",
        "    session.commit()\n",
        "    workers.update_position(6, 'Translator')\n",
        "    session.commit()\n",
        "  except:\n",
        "    session.rollback()\n",
        "    raise\n",
        "  finally:\n",
        "    session.close()\n",
        "\n",
        "test_update(session)"
      ],
      "execution_count": null,
      "outputs": []
    },
    {
      "cell_type": "code",
      "metadata": {
        "id": "LRq7vrUyFD18"
      },
      "source": [
        "print_all(session)"
      ],
      "execution_count": null,
      "outputs": []
    },
    {
      "cell_type": "markdown",
      "metadata": {
        "id": "lMBLntLEKLqk"
      },
      "source": [
        "## видалення"
      ]
    },
    {
      "cell_type": "code",
      "metadata": {
        "id": "qxLtJw2gKQbD"
      },
      "source": [
        "def test_delete(session):\n",
        "  try:\n",
        "\n",
        "    fact = DaoFactory(session)\n",
        "\n",
        "    clients = fact.getClientDao()\n",
        "    books = fact.getBookDao()\n",
        "    orders = fact.getOrderDao()\n",
        "    licenses = fact.getLicenseDao()\n",
        "    workers = fact.getWorkerDao()\n",
        "    groups = fact.getGroupDao()\n",
        "\n",
        "    clients.delete(6)\n",
        "    session.commit()\n",
        "    books.delete(1)\n",
        "    session.commit()\n",
        "    orders.delete(3)\n",
        "    session.commit()\n",
        "    licenses.delete(4)\n",
        "    session.commit()\n",
        "    workers.delete(1)\n",
        "    session.commit()\n",
        "    groups.delete(7)\n",
        "    session.commit()\n",
        "  except:\n",
        "    session.rollback()\n",
        "    raise\n",
        "  finally:\n",
        "    session.close()\n",
        "\n",
        "test_delete(session)"
      ],
      "execution_count": null,
      "outputs": []
    },
    {
      "cell_type": "code",
      "metadata": {
        "id": "yPmk_IXOKpax"
      },
      "source": [
        "print_all(session)"
      ],
      "execution_count": null,
      "outputs": []
    }
  ]
}